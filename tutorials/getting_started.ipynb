{
 "cells": [
  {
   "cell_type": "markdown",
   "metadata": {},
   "source": [
    "This tutorial gives an overview of the interaction with the *PowerFactory* database using *powfacpy*. The methods introduced in this tutorial serve as a basis to do more complex things and to write more readable code using less lines of code. Furthermore, the error messages *powfacpy* provides are a great help when debugging larger scripts. \n",
    "\n",
    "For a complete list of classes and methods, please have a look at the *API* Chapter of the documentation or at the source code.\n",
    "\n",
    "Similar to using the Python API of *PowerFactory* directly, we first need to import the powerfactory module from *PowerFactory*'s installation directory (in case you want to access PowerFactory externally using IPython/Jupyter) and get the application. "
   ]
  },
  {
   "cell_type": "code",
   "execution_count": 1,
   "metadata": {},
   "outputs": [],
   "source": [
    "# If you use IPython/Jupyter:\n",
    "import sys\n",
    "sys.path.append(r'C:\\Program Files\\DIgSILENT\\PowerFactory 2022 SP1\\Python\\3.10') # you may use a different directory\n",
    "# Get the PF app\n",
    "import powerfactory\n",
    "app = powerfactory.GetApplication()"
   ]
  },
  {
   "cell_type": "markdown",
   "metadata": {},
   "source": [
    "Then import *powfacpy* and create an instance of class `PFBaseInterface` (with argument `app`). This interface class is used mainly to interact with the *PowerFactory* database as we will see below. "
   ]
  },
  {
   "cell_type": "code",
   "execution_count": 2,
   "metadata": {},
   "outputs": [],
   "source": [
    "import powfacpy\n",
    "pfbi = powfacpy.PFBaseInterface(app)"
   ]
  },
  {
   "cell_type": "markdown",
   "metadata": {},
   "source": [
    "Note that `pfbi` has an attribute `app` that can be used similar to the `app` variable we loaded from the `powerfactory` module before. Here are two ways to 1. show the PowerFactory application and 2. activate a project:"
   ]
  },
  {
   "cell_type": "code",
   "execution_count": 3,
   "metadata": {},
   "outputs": [
    {
     "data": {
      "text/plain": [
       "0"
      ]
     },
     "execution_count": 3,
     "metadata": {},
     "output_type": "execute_result"
    }
   ],
   "source": [
    "app.Show()\n",
    "app.ActivateProject(r\"\\seberlein\\powfacpy\\powfacpy_tests\") # You may change the project path. \n",
    "# Make sure the path starts with \"\\\"\n",
    "pfbi.app.Show()\n",
    "pfbi.app.ActivateProject(r\"\\seberlein\\powfacpy\\powfacpy_tests\") # You may change the project path.\n",
    "# Make sure the path starts with \"\\\""
   ]
  },
  {
   "cell_type": "markdown",
   "metadata": {},
   "source": [
    "So where does `pfbi` differ from the Python interface that `app` provides? Let's see."
   ]
  },
  {
   "cell_type": "markdown",
   "metadata": {},
   "source": [
    "# Accessing objects\n",
    " Let's access an object from the *PowerFactory* database. When using `app`, we would use the methods `app.GetProjectFolder`, `app.GetChildren` or `app.GetContents`. Instead, we use `pfbi.get_obj` with the path of the object (**relative to the folder of the active project**) as an argument: "
   ]
  },
  {
   "cell_type": "code",
   "execution_count": 4,
   "metadata": {},
   "outputs": [],
   "source": [
    "mv_terminal = pfbi.get_obj(r\"Network Model\\Network Data\\test_base_interface\\Grid\\Terminal MV\")[0]"
   ]
  },
  {
   "cell_type": "markdown",
   "metadata": {},
   "source": [
    "The `[0]` at the end is necessary because the method always returns a list (with one element in this case). \n",
    "\n",
    "Note that you can easily copy and paste the path from the data manager while selecting the object in the data tree: \n",
    "\n",
    "![object path](figures/object_path.png)"
   ]
  },
  {
   "cell_type": "markdown",
   "metadata": {},
   "source": [
    "`pfbi.get_obj` also differs in other ways from `app.GetContents`. You can set a condition for the objects that you want to access, which is best described by an example:"
   ]
  },
  {
   "cell_type": "code",
   "execution_count": 5,
   "metadata": {},
   "outputs": [],
   "source": [
    "hv_terminals = pfbi.get_obj(r\"Network Model\\Network Data\\test_base_interface\\Grid\\*.ElmTerm\",\n",
    "        condition=lambda x: getattr(x,\"uknom\") > 50)"
   ]
  },
  {
   "cell_type": "markdown",
   "metadata": {},
   "source": [
    "First of all, we use a wildcard (`*.ElmTerm`) to access all terminals in the `Grid` folder. The `condition` argument is a function that defines a certain condition the objects have to fulfill and returns a boolean value. In this case, the input argument `x` is an `ElmTerm` and `getattr(x,\"uknom\") > 50` gets its attribute `uknom` (nominal voltage) and checks whether it is larger than 50 (kV). `getattr` is a pthon method that returns an attribute of any object (also *PowerFactory* objects). You can also define more complex functions, such as `lambda x: getattr(x,\"uknom\") > 50 and getattr(x,\"uknom\") < 200` to access terminals between 50 and 200 kV.\n",
    "\n",
    "It is also possible to include subfolders in the search for objects:"
   ]
  },
  {
   "cell_type": "code",
   "execution_count": 6,
   "metadata": {},
   "outputs": [],
   "source": [
    "terminals = pfbi.get_obj(r\"Network Model\\Network Data\\*.ElmTerm\",include_subfolders=True)"
   ]
  },
  {
   "cell_type": "markdown",
   "metadata": {},
   "source": [
    "This will search in `Network Model\\Network Data` and all its subfolders.\n",
    "\n",
    "What's also very helpful is that `pfbi.get_obj` throws an error if the path is incorrect and shows exactly where it fails. So\n",
    "\n",
    "`terminals = pfbi.get_obj(r\"Network Model\\wrong_folder_name\\*.ElmTerm\")` \n",
    "\n",
    "will throw an error:\n",
    "\n",
    "PFPathError: 'wrong_folder_name' does not exist in '\\user\\powfacpy_base\\Network Model'"
   ]
  },
  {
   "cell_type": "markdown",
   "metadata": {},
   "source": [
    "By default, an exception is also raised if no objects are found in the specified folder. For example:\n",
    "\n",
    "```python\n",
    "terminals = pfbi.get_obj(r\"Network Model\\Network Data\\wrong_object_name*\",include_subfolders=True)\n",
    "```\n",
    "\n",
    "returns\n",
    "\n",
    "PFPathError: 'wrong_object_name*' does not exist in '\\user\\powfacpy_base\\Network Model\\Network Data'\n",
    "\n",
    "This can be turned off using `error_if_non_existent=False`, then an empty list will be returned.\n",
    "\n",
    "If you want to access objects in a folder many times and don't want to use every time the whole path relative to the active project, you can also specifiy a parent folder where the `path` starts (this can also be more performant):"
   ]
  },
  {
   "cell_type": "code",
   "execution_count": 7,
   "metadata": {},
   "outputs": [],
   "source": [
    "grid_folder = pfbi.get_obj(r\"Network Model\\Network Data\\test_base_interface\\Grid\")[0]\n",
    "mv_terminal = pfbi.get_obj(\"Terminal MV\",   parent_folder=grid_folder)[0]\n",
    "hv_terminal = pfbi.get_obj(\"Terminal HV 1\", parent_folder=grid_folder)[0]"
   ]
  },
  {
   "cell_type": "markdown",
   "metadata": {},
   "source": [
    "An alternative to `pfbi.get_obj` is `pfbi.get_single_obj`. Use this function if you want to access a single unique object from the database and want to avoid the `[0]` (which is easily forgotten):"
   ]
  },
  {
   "cell_type": "code",
   "execution_count": 8,
   "metadata": {},
   "outputs": [],
   "source": [
    "terminal_1=pfbi.get_single_obj(r\"Network Model\\Network Data\\test_base_interface\\Grid\\Terminal HV 1\") "
   ]
  },
  {
   "cell_type": "markdown",
   "metadata": {},
   "source": [
    "# Setting and getting object attributes\n",
    "How about setting data in the database? You can set attributes of an object as follows:"
   ]
  },
  {
   "cell_type": "code",
   "execution_count": 9,
   "metadata": {},
   "outputs": [],
   "source": [
    "pfbi.set_attr(r\"Network Model\\Network Data\\test_base_interface\\Grid\\Terminal MV\",\n",
    "    {\"uknom\":33,\"outserv\":0})"
   ]
  },
  {
   "cell_type": "markdown",
   "metadata": {},
   "source": [
    "So with only one command we set the attributes \"uknom\" and \"outserv\" of the terminal. This saves time and is also very readable code!\n",
    "Note that the method `set_attr` accepts the path (string) but also a *PowerFactory* object. For example, we could also use the object `mv_terminal` that we loaded above:"
   ]
  },
  {
   "cell_type": "code",
   "execution_count": 10,
   "metadata": {},
   "outputs": [],
   "source": [
    "pfbi.set_attr(mv_terminal, {\"uknom\":33,\"outserv\":0})"
   ]
  },
  {
   "cell_type": "markdown",
   "metadata": {},
   "source": [
    "This applies to many other methods in `powfacpy`. Loading the object only once and then using the object can be more efficient than using the path string very many times.\n",
    "\n",
    "If you want to get an attribute of an object, write: "
   ]
  },
  {
   "cell_type": "code",
   "execution_count": 11,
   "metadata": {},
   "outputs": [],
   "source": [
    "nominal_voltage = pfbi.get_attr(r\"Network Model\\Network Data\\test_base_interface\\Grid\\Terminal MV\",\"uknom\")\n",
    "# Equivalent:\n",
    "nominal_voltage = pfbi.get_attr(mv_terminal,\"uknom\")\n",
    "nominal_voltage = pfbi.get_attr(\"Terminal MV\",\"uknom\",parent_folder=r\"Network Model\\Network Data\\test_base_interface\\Grid\")"
   ]
  },
  {
   "cell_type": "markdown",
   "metadata": {},
   "source": [
    "# Creating objects\n",
    "If you want to create a new object, use:"
   ]
  },
  {
   "cell_type": "code",
   "execution_count": 12,
   "metadata": {},
   "outputs": [],
   "source": [
    "new_obj = pfbi.create_by_path(r\"Library\\Dynamic Models\\dummy.BlkDef\") "
   ]
  },
  {
   "cell_type": "markdown",
   "metadata": {},
   "source": [
    "This will create an object of class \"BlkDef\" with the name \"dummy\" in the folder \"Library\\Dynamic Models\". You can also use"
   ]
  },
  {
   "cell_type": "code",
   "execution_count": 13,
   "metadata": {},
   "outputs": [],
   "source": [
    "new_obj = pfbi.create_in_folder(r\"Library\\Dynamic Models\",\"dummy.BlkDef\",overwrite=True)\n",
    "# Or equivalent:\n",
    "models_folder = pfbi.get_single_obj(r\"Library\\Dynamic Models\")\n",
    "new_obj = pfbi.create_in_folder(models_folder,\"dummy.BlkDef\",overwrite=True)"
   ]
  },
  {
   "cell_type": "markdown",
   "metadata": {},
   "source": [
    "which will overwrite the former object (this avoids that *PowerFactory* creates *dummy(1), dummy(2),...* everytime the code is run)."
   ]
  },
  {
   "cell_type": "markdown",
   "metadata": {},
   "source": [
    "# Copying objects\n",
    "The method `copy_obj` can be seen as a method that uses `get_obj` as a first step to access objects and then copies them to a target folder under the hood. Therefore, `copy_obj`shares many (optional) input arguments with `get_obj`. Additionally, a target folder is required. For example, to copy all objects from a source folder to a target folder, write"
   ]
  },
  {
   "cell_type": "code",
   "execution_count": 14,
   "metadata": {},
   "outputs": [],
   "source": [
    "source_folder = r\"Library\\Dynamic Models\\TestDummyFolder\"\n",
    "target_folder = r\"Library\\Dynamic Models\\TestCopyMultiple\"\n",
    "new_copied_objects = pfbi.copy_obj(\"*\",target_folder,parent_folder=source_folder)"
   ]
  },
  {
   "cell_type": "markdown",
   "metadata": {},
   "source": [
    "Note that `parent folder` is an optional argument (used for the **source**), so you could also specify the full object path as the first argument instead of using `*` (similar to `get_obj`). To select certain objects from the source folder, you can use optional arguments like `condition` or `include_subfolders`, also similar to the `get_obj` method. The method also accepts a list of *PowerFactory* objects:"
   ]
  },
  {
   "cell_type": "code",
   "execution_count": 15,
   "metadata": {},
   "outputs": [],
   "source": [
    "list_of_objects_to_copy = pfbi.get_obj(\"*\",parent_folder=source_folder)\n",
    "target_folder_obj = pfbi.get_single_obj(r\"Library\\Dynamic Models\\TestCopyMultiple\")\n",
    "new_copied_objects = pfbi.copy_obj(list_of_objects_to_copy,\n",
    "    target_folder_obj, overwrite=True) "
   ]
  },
  {
   "cell_type": "markdown",
   "metadata": {},
   "source": [
    "Note that the target folder object (instead of a path string) is used (second argument)."
   ]
  },
  {
   "cell_type": "markdown",
   "metadata": {},
   "source": [
    "If you want to copy a single object, use `copy_single_obj`. You have the option to give it a new name:"
   ]
  },
  {
   "cell_type": "code",
   "execution_count": 16,
   "metadata": {},
   "outputs": [],
   "source": [
    "new_copy = pfbi.copy_single_obj(r\"Library\\Dynamic Models\\Linear_interpolation\",\n",
    "    r\"Library\\Dynamic Models\\TestCopy\", new_name=\"new_dummy_name\")"
   ]
  },
  {
   "cell_type": "markdown",
   "metadata": {},
   "source": [
    "First input here is the path of the object to be copied, but you can also use a *PowerFactory* object."
   ]
  },
  {
   "cell_type": "markdown",
   "metadata": {},
   "source": [
    "# Deleting objects\n",
    "Deleting objects works in a similar fashion, because under the hood it uses `get_obj` and deletes the returned objects in the second step."
   ]
  },
  {
   "cell_type": "code",
   "execution_count": 17,
   "metadata": {},
   "outputs": [],
   "source": [
    "pfbi.delete_obj(\"to_be_deleted*\",\n",
    "    parent_folder=r\"Library\\Dynamic Models\",\n",
    "    include_subfolders=True,\n",
    "    error_if_non_existent=False)"
   ]
  },
  {
   "cell_type": "markdown",
   "metadata": {},
   "source": [
    "And of course you could also use *PowerFactory* objects as an input:"
   ]
  },
  {
   "cell_type": "code",
   "execution_count": 18,
   "metadata": {},
   "outputs": [],
   "source": [
    "objects_in_folder = pfbi.get_obj(\"to_be_deleted*\",parent_folder=r\"Library\\Dynamic Models\",\n",
    "    error_if_non_existent=False)\n",
    "pfbi.delete_obj(objects_in_folder)"
   ]
  }
 ],
 "metadata": {
  "kernelspec": {
   "display_name": "Python 3.10.4 64-bit",
   "language": "python",
   "name": "python3"
  },
  "language_info": {
   "codemirror_mode": {
    "name": "ipython",
    "version": 3
   },
   "file_extension": ".py",
   "mimetype": "text/x-python",
   "name": "python",
   "nbconvert_exporter": "python",
   "pygments_lexer": "ipython3",
   "version": "3.10.6"
  },
  "orig_nbformat": 4,
  "vscode": {
   "interpreter": {
    "hash": "20b4f2ae9a71ebfc0af8cf0167d05f9c8f5c94fe23811db744e66ae1fdb328c7"
   }
  }
 },
 "nbformat": 4,
 "nbformat_minor": 2
}
