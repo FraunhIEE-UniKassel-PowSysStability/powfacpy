{
 "cells": [
  {
   "cell_type": "markdown",
   "metadata": {},
   "source": [
    "The following tutorial introduces dynamic simulations (RMS/EMT), plotting and exporting of results (to pandas or csv) using *powfacpy*.\n",
    "\n",
    "Let's again set up *PowerFactory* and create an instance of the class `PFPlotInterface`. This class inherits from `PFBaseInterface` (so those methods are available)."
   ]
  },
  {
   "cell_type": "code",
   "execution_count": 1,
   "metadata": {},
   "outputs": [
    {
     "data": {
      "text/plain": [
       "<powerfactory.DataObject <l1>\\seberlein.IntUser\\powfacpy\\powfacpy_tests.IntPrj\\Study Cases.IntPrjfolder\\test_plot_interface\\Study Case 1.IntCase</l1>>"
      ]
     },
     "execution_count": 1,
     "metadata": {},
     "output_type": "execute_result"
    }
   ],
   "source": [
    "# If you use IPython/Jupyter:\n",
    "import sys\n",
    "sys.path.append(r'C:\\Program Files\\DIgSILENT\\PowerFactory 2023 SP3\\Python\\3.10') # you may use a different directory\n",
    "# Get the PF app\n",
    "import powerfactory\n",
    "app = powerfactory.GetApplication()\n",
    "sys.path.insert(0,r'D:\\User\\seberlein\\Code\\powfacpy\\src') \n",
    "import powfacpy\n",
    "app.Show()\n",
    "app.ActivateProject(r\"powfacpy\\powfacpy_tests\") # You may change the project path.\n",
    "# Make sure the path starts with \"\\\"\n",
    "pfpi = powfacpy.PFPlotInterface(app)\n",
    "pfpi.activate_study_case(r\"Study Cases\\test_plot_interface\\Study Case 1\")"
   ]
  },
  {
   "cell_type": "markdown",
   "metadata": {},
   "source": [
    "# Plotting inside *PowerFactory*"
   ]
  },
  {
   "cell_type": "markdown",
   "metadata": {},
   "source": [
    "In *PowerFactory*, monitored result variables (to be later plotted or exported) need to be specified before the simulation. The easiest way to plot results using *powfacpy* is to simply use the method `plot` before the simulation, which automaticallly adds a variable to the monitored variables and plots it as soon as the simulation has run.\n",
    "\n",
    "First, we set the active plot (starting from a clean graphics board by clearing all plot pages)."
   ]
  },
  {
   "cell_type": "code",
   "execution_count": 2,
   "metadata": {},
   "outputs": [],
   "source": [
    "pfpi.clear_plot_pages() # Start from a clean graphics board\n",
    "pfpi.set_active_plot(\"Plot 1\", \"Plot page 1\")"
   ]
  },
  {
   "attachments": {},
   "cell_type": "markdown",
   "metadata": {},
   "source": [
    "The method `set_active_plot` takes the name of the plot and the name of the page of the plot as input arguments. If the plot (or the page) does not exist, it is created. If there should be several plots on one page, the method is called several times with the same page name but different plot name (e.g. `pfpi.set_active_plot(\"Plot 2\", \"Plot page 1\")`). \n",
    "\n",
    "All plot commmands are applied to the active plot. We can now add curves to the plot."
   ]
  },
  {
   "cell_type": "code",
   "execution_count": 3,
   "metadata": {},
   "outputs": [],
   "source": [
    "# Curve of variable \"s:Iqcmd\"\n",
    "pfpi.plot(r\"Network Model\\Network Data\\test_plot_interface\"\n",
    "    r\"\\Grid 1\\WECC WT Control System Type 4A\\REEC_A Electrical Control Model\", \n",
    "    \n",
    "    \"s:Iqcmd\")\n",
    "# Curve of variable \"s:Ipcmd\"\n",
    "# Prepare arguments\n",
    "dsl_controller_obj = pfpi.get_unique_obj(r\"Network Model\\Network Data\"\n",
    "    r\"\\test_plot_interface\\Grid 1\\WECC WT Control System Type 4A\\REEC_A Electrical Control Model\")\n",
    "results_obj = pfpi.get_unique_obj(r\"Study Cases\\test_plot_interface\\Study Case 1\\All calculations\")\n",
    "# Plot with keyword arguments\n",
    "pfpi.plot(dsl_controller_obj,\n",
    "    \"s:Ipcmd\", \n",
    "    linestyle = 3, \n",
    "    linewidth = 200, \n",
    "    color = 5,\n",
    "    label = \"Reactive power setpoint\",\n",
    "    results_obj = results_obj)"
   ]
  },
  {
   "cell_type": "markdown",
   "metadata": {},
   "source": [
    "The method `plot` takes the PF object and its variable as first and second input. Furthermore, keyword arguments can be specified as shown for the second curve. \n",
    "\n",
    "Now we can execute a dynamic simulation using the dynamic simulation interface class."
   ]
  },
  {
   "cell_type": "code",
   "execution_count": 4,
   "metadata": {},
   "outputs": [],
   "source": [
    "pfds = powfacpy.PFDynSimInterface(app)\n",
    "pfds.initialize_sim({\"iopt_sim\":\"rms\"})\n",
    "pfds.run_sim({\"tstop\":0.5})"
   ]
  },
  {
   "cell_type": "markdown",
   "metadata": {},
   "source": [
    "The two methods initialize and run the simulation. Paramters for the ComInc object (initialization) and the ComSim (run simulation) can be specified in a dictionary. If no parameters need to be set, one can also use:"
   ]
  },
  {
   "cell_type": "code",
   "execution_count": 5,
   "metadata": {},
   "outputs": [],
   "source": [
    "pfds.initialize_and_run_sim()"
   ]
  },
  {
   "cell_type": "markdown",
   "metadata": {},
   "source": [
    "In some cases, it might be more convenient to add the result variable first, then simulate and finally specifiy the plot:"
   ]
  },
  {
   "cell_type": "code",
   "execution_count": 6,
   "metadata": {},
   "outputs": [],
   "source": [
    "dsl_controller_obj = pfpi.get_unique_obj(r\"Network Model\\Network Data\"\n",
    "    r\"\\test_plot_interface\\Grid 1\\WECC WT Control System Type 4A\\REEC_A Electrical Control Model\")\n",
    "pfds.add_results_variable(dsl_controller_obj, \"s:Ipcmd\")\n",
    "pfds.initialize_and_run_sim()\n",
    "pfpi.plot(dsl_controller_obj, \"s:Iqcmd\")"
   ]
  },
  {
   "cell_type": "markdown",
   "metadata": {},
   "source": [
    "So the method `add_results_variable` is used to add variables to the monitored vaiables to later export or plot them.\n",
    "\n",
    "Sometimes we have created plots in one study case and want to have those plots also in another study case. This can be achieved by copying the graphics board content (or parts of it) from one study case to another:"
   ]
  },
  {
   "cell_type": "code",
   "execution_count": 7,
   "metadata": {},
   "outputs": [],
   "source": [
    "study_case_1 = pfpi.get_unique_obj(r\"Study Cases\\test_plot_interface\\Study Case 1\")\n",
    "study_case_2 = pfpi.get_unique_obj(r\"Study Cases\\test_plot_interface\\Study Case 2\")\n",
    "pfpi.copy_graphics_board_content(study_case_1, study_case_2, \"*.GrpPage\")"
   ]
  },
  {
   "cell_type": "markdown",
   "metadata": {},
   "source": [
    "This copies all plot pages (class GrpPage) of Study Case 1 to Study Case 2. The target study case argument can also be a list of cases. Or we can use the method `copy_graphics_board_content_to_all_study_cases` to target all study cases or all cases in a certain folder.\n"
   ]
  },
  {
   "cell_type": "markdown",
   "metadata": {},
   "source": [
    "# Exporting results from *PowerFactory*"
   ]
  },
  {
   "cell_type": "markdown",
   "metadata": {},
   "source": [
    "Simulation results can be exported to a [Pandas DataFrame](https://pandas.pydata.org/docs/reference/api/pandas.DataFrame.html) via the `powfacpy.PFResultsInterface`."
   ]
  },
  {
   "cell_type": "code",
   "execution_count": 8,
   "metadata": {},
   "outputs": [],
   "source": [
    "pfri = powfacpy.PFResultsInterface(app)"
   ]
  },
  {
   "cell_type": "markdown",
   "metadata": {},
   "source": [
    "## To Pandas DataFrame\n",
    "Simulation results can be exported to a [Pandas DataFrame](https://pandas.pydata.org/docs/reference/api/pandas.DataFrame.html).\n"
   ]
  },
  {
   "cell_type": "code",
   "execution_count": 9,
   "metadata": {},
   "outputs": [
    {
     "data": {
      "text/html": [
       "<div>\n",
       "<style scoped>\n",
       "    .dataframe tbody tr th:only-of-type {\n",
       "        vertical-align: middle;\n",
       "    }\n",
       "\n",
       "    .dataframe tbody tr th {\n",
       "        vertical-align: top;\n",
       "    }\n",
       "\n",
       "    .dataframe thead th {\n",
       "        text-align: right;\n",
       "    }\n",
       "</style>\n",
       "<table border=\"1\" class=\"dataframe\">\n",
       "  <thead>\n",
       "    <tr style=\"text-align: right;\">\n",
       "      <th></th>\n",
       "      <th>time</th>\n",
       "      <th>Network Model\\Network Data\\test_plot_interface\\Grid 1\\AC Voltage Source\\s:u0</th>\n",
       "      <th>Network Model\\Network Data\\test_plot_interface\\Grid 1\\AC Voltage Source\\m:Qsum:bus1</th>\n",
       "      <th>Network Model\\Network Data\\test_plot_interface\\Grid 1\\AC Voltage Source\\m:Psum:bus1</th>\n",
       "      <th>Network Model\\Network Data\\test_plot_interface\\Grid 1\\WECC WT Control System Type 4A\\REEC_A Electrical Control Model\\s:Iqcmd</th>\n",
       "      <th>Network Model\\Network Data\\test_plot_interface\\Grid 1\\WECC WT Control System Type 4A\\REEC_A Electrical Control Model\\s:Ipcmd</th>\n",
       "      <th>Network Model\\Network Data\\test_plot_interface\\Grid 1\\WECC WT Control System Type 4A\\REEC_A Electrical Control Model\\c:PfFlag</th>\n",
       "    </tr>\n",
       "  </thead>\n",
       "  <tbody>\n",
       "    <tr>\n",
       "      <th>0</th>\n",
       "      <td>-0.10</td>\n",
       "      <td>1.0</td>\n",
       "      <td>-0.730593</td>\n",
       "      <td>1.048401</td>\n",
       "      <td>2.766785e-17</td>\n",
       "      <td>0.49842</td>\n",
       "      <td>0.0</td>\n",
       "    </tr>\n",
       "    <tr>\n",
       "      <th>1</th>\n",
       "      <td>-0.09</td>\n",
       "      <td>1.0</td>\n",
       "      <td>-0.730593</td>\n",
       "      <td>1.048401</td>\n",
       "      <td>2.766785e-17</td>\n",
       "      <td>0.49842</td>\n",
       "      <td>0.0</td>\n",
       "    </tr>\n",
       "  </tbody>\n",
       "</table>\n",
       "</div>"
      ],
      "text/plain": [
       "   time  \\\n",
       "0 -0.10   \n",
       "1 -0.09   \n",
       "\n",
       "   Network Model\\Network Data\\test_plot_interface\\Grid 1\\AC Voltage Source\\s:u0  \\\n",
       "0                                                1.0                              \n",
       "1                                                1.0                              \n",
       "\n",
       "   Network Model\\Network Data\\test_plot_interface\\Grid 1\\AC Voltage Source\\m:Qsum:bus1  \\\n",
       "0                                          -0.730593                                     \n",
       "1                                          -0.730593                                     \n",
       "\n",
       "   Network Model\\Network Data\\test_plot_interface\\Grid 1\\AC Voltage Source\\m:Psum:bus1  \\\n",
       "0                                           1.048401                                     \n",
       "1                                           1.048401                                     \n",
       "\n",
       "   Network Model\\Network Data\\test_plot_interface\\Grid 1\\WECC WT Control System Type 4A\\REEC_A Electrical Control Model\\s:Iqcmd  \\\n",
       "0                                       2.766785e-17                                                                              \n",
       "1                                       2.766785e-17                                                                              \n",
       "\n",
       "   Network Model\\Network Data\\test_plot_interface\\Grid 1\\WECC WT Control System Type 4A\\REEC_A Electrical Control Model\\s:Ipcmd  \\\n",
       "0                                            0.49842                                                                              \n",
       "1                                            0.49842                                                                              \n",
       "\n",
       "   Network Model\\Network Data\\test_plot_interface\\Grid 1\\WECC WT Control System Type 4A\\REEC_A Electrical Control Model\\c:PfFlag  \n",
       "0                                                0.0                                                                              \n",
       "1                                                0.0                                                                              "
      ]
     },
     "execution_count": 9,
     "metadata": {},
     "output_type": "execute_result"
    }
   ],
   "source": [
    "pfds.initialize_and_run_sim()\n",
    "df = pfri.export_to_pandas()\n",
    "df.head(2)"
   ]
  },
  {
   "cell_type": "markdown",
   "metadata": {},
   "source": [
    "As can be seen, the full variable names (incl. the path of the object) as given by PowerFactory are used in the header. To omit the path use: "
   ]
  },
  {
   "cell_type": "code",
   "execution_count": 10,
   "metadata": {},
   "outputs": [
    {
     "data": {
      "text/html": [
       "<div>\n",
       "<style scoped>\n",
       "    .dataframe tbody tr th:only-of-type {\n",
       "        vertical-align: middle;\n",
       "    }\n",
       "\n",
       "    .dataframe tbody tr th {\n",
       "        vertical-align: top;\n",
       "    }\n",
       "\n",
       "    .dataframe thead th {\n",
       "        text-align: right;\n",
       "    }\n",
       "</style>\n",
       "<table border=\"1\" class=\"dataframe\">\n",
       "  <thead>\n",
       "    <tr style=\"text-align: right;\">\n",
       "      <th></th>\n",
       "      <th>time</th>\n",
       "      <th>s:u0</th>\n",
       "      <th>m:Qsum:bus1</th>\n",
       "      <th>m:Psum:bus1</th>\n",
       "      <th>s:Iqcmd</th>\n",
       "      <th>s:Ipcmd</th>\n",
       "      <th>c:PfFlag</th>\n",
       "    </tr>\n",
       "  </thead>\n",
       "  <tbody>\n",
       "    <tr>\n",
       "      <th>0</th>\n",
       "      <td>-0.10</td>\n",
       "      <td>1.0</td>\n",
       "      <td>-0.730593</td>\n",
       "      <td>1.048401</td>\n",
       "      <td>2.766785e-17</td>\n",
       "      <td>0.49842</td>\n",
       "      <td>0.0</td>\n",
       "    </tr>\n",
       "    <tr>\n",
       "      <th>1</th>\n",
       "      <td>-0.09</td>\n",
       "      <td>1.0</td>\n",
       "      <td>-0.730593</td>\n",
       "      <td>1.048401</td>\n",
       "      <td>2.766785e-17</td>\n",
       "      <td>0.49842</td>\n",
       "      <td>0.0</td>\n",
       "    </tr>\n",
       "  </tbody>\n",
       "</table>\n",
       "</div>"
      ],
      "text/plain": [
       "   time  s:u0  m:Qsum:bus1  m:Psum:bus1       s:Iqcmd  s:Ipcmd  c:PfFlag\n",
       "0 -0.10   1.0    -0.730593     1.048401  2.766785e-17  0.49842       0.0\n",
       "1 -0.09   1.0    -0.730593     1.048401  2.766785e-17  0.49842       0.0"
      ]
     },
     "execution_count": 10,
     "metadata": {},
     "output_type": "execute_result"
    }
   ],
   "source": [
    "df.columns = [column_name.split('\\\\')[-1] for column_name in df.columns]\n",
    "df.head(2)"
   ]
  },
  {
   "cell_type": "markdown",
   "metadata": {},
   "source": [
    "By default, `export_to_pandas` exports all monitored variables of the first `ElmRes` object found in the active study case. Alternatively, network elements and the respective variables as well as results objects (`ElmRes`) can be specified as lists:"
   ]
  },
  {
   "cell_type": "code",
   "execution_count": 11,
   "metadata": {},
   "outputs": [
    {
     "data": {
      "text/html": [
       "<div>\n",
       "<style scoped>\n",
       "    .dataframe tbody tr th:only-of-type {\n",
       "        vertical-align: middle;\n",
       "    }\n",
       "\n",
       "    .dataframe tbody tr th {\n",
       "        vertical-align: top;\n",
       "    }\n",
       "\n",
       "    .dataframe thead th {\n",
       "        text-align: right;\n",
       "    }\n",
       "</style>\n",
       "<table border=\"1\" class=\"dataframe\">\n",
       "  <thead>\n",
       "    <tr style=\"text-align: right;\">\n",
       "      <th></th>\n",
       "      <th>time</th>\n",
       "      <th>Q</th>\n",
       "      <th>P</th>\n",
       "      <th>Ip</th>\n",
       "    </tr>\n",
       "  </thead>\n",
       "  <tbody>\n",
       "    <tr>\n",
       "      <th>0</th>\n",
       "      <td>-0.10</td>\n",
       "      <td>-0.730593</td>\n",
       "      <td>1.048401</td>\n",
       "      <td>0.49842</td>\n",
       "    </tr>\n",
       "    <tr>\n",
       "      <th>1</th>\n",
       "      <td>-0.09</td>\n",
       "      <td>-0.730593</td>\n",
       "      <td>1.048401</td>\n",
       "      <td>0.49842</td>\n",
       "    </tr>\n",
       "  </tbody>\n",
       "</table>\n",
       "</div>"
      ],
      "text/plain": [
       "   time         Q         P       Ip\n",
       "0 -0.10 -0.730593  1.048401  0.49842\n",
       "1 -0.09 -0.730593  1.048401  0.49842"
      ]
     },
     "execution_count": 11,
     "metadata": {},
     "output_type": "execute_result"
    }
   ],
   "source": [
    "voltage_source = pfri.get_unique_obj(r'Network Model\\Network Data\\test_plot_interface\\Grid 1\\AC Voltage Source')\n",
    "control_model = pfri.get_unique_obj(r'Network Model\\Network Data\\test_plot_interface\\Grid 1\\WECC WT Control System Type 4A\\REEC_A Electrical Control Model')\n",
    "\n",
    "elements =   [voltage_source, voltage_source, control_model]\n",
    "variables = ['m:Qsum:bus1',  'm:Psum:bus1',  's:Ipcmd'    ]\n",
    "elmres_list = [pfri.app.GetFromStudyCase('ElmRes'),]*len(variables)\n",
    "\n",
    "df = pfri.export_to_pandas(list_of_results_objs=elmres_list, \n",
    "                           elements=elements, \n",
    "                           variables=variables)\n",
    "df.columns = ['time', 'Q', 'P', 'Ip']\n",
    "df.head(2)"
   ]
  },
  {
   "cell_type": "code",
   "execution_count": 12,
   "metadata": {},
   "outputs": [
    {
     "data": {
      "text/plain": [
       "[<matplotlib.lines.Line2D at 0x1b78aab2a40>]"
      ]
     },
     "execution_count": 12,
     "metadata": {},
     "output_type": "execute_result"
    },
    {
     "data": {
      "image/png": "[encoded data removed]",
      "text/plain": [
       "<Figure size 640x480 with 2 Axes>"
      ]
     },
     "metadata": {},
     "output_type": "display_data"
    }
   ],
   "source": [
    "import matplotlib.pyplot as plt\n",
    "fig, ax = plt.subplots(ncols=2, sharex=True, sharey=True)\n",
    "ax[0].plot(df.time, df.Q)\n",
    "ax[0].plot(df.time, df.P)\n",
    "ax[1].plot(df.time, df.Ip)\n"
   ]
  },
  {
   "cell_type": "markdown",
   "metadata": {},
   "source": [
    "## To CSV file\n",
    "We can also export simulation results from PowerFactory to a csv file. The syntax is very simlar to the export to pandas:"
   ]
  },
  {
   "cell_type": "code",
   "execution_count": 13,
   "metadata": {},
   "outputs": [
    {
     "data": {
      "text/plain": [
       "'d:\\\\User\\\\seberlein\\\\Code\\\\powfacpy\\\\tutorials\\\\results.csv'"
      ]
     },
     "execution_count": 13,
     "metadata": {},
     "output_type": "execute_result"
    }
   ],
   "source": [
    "pfri.export_to_csv()"
   ]
  },
  {
   "cell_type": "markdown",
   "metadata": {},
   "source": [
    "This exports all variables from the first result object (`ElmRes`) found in the active study case to the directory from where the script is run. You can also specifiy a directory, a file name (default is \"results\") and lists for grid objects, variables and results objects (similar to the method `export_to_pandas`). \n",
    "\n"
   ]
  },
  {
   "cell_type": "code",
   "execution_count": 14,
   "metadata": {},
   "outputs": [
    {
     "data": {
      "text/plain": [
       "'d:\\\\User\\\\seberlein\\\\Code\\\\powfacpy\\\\tutorials\\\\results.csv'"
      ]
     },
     "execution_count": 14,
     "metadata": {},
     "output_type": "execute_result"
    }
   ],
   "source": [
    "voltage_source = pfri.get_unique_obj(r'Network Model\\Network Data\\test_plot_interface\\Grid 1\\AC Voltage Source')\n",
    "control_model = pfri.get_unique_obj(r'Network Model\\Network Data\\test_plot_interface\\Grid 1\\WECC WT Control System Type 4A\\REEC_A Electrical Control Model')\n",
    "\n",
    "elements =   [voltage_source, voltage_source, control_model]\n",
    "variables = ['m:Qsum:bus1',  'm:Psum:bus1',  's:Ipcmd'    ]\n",
    "elmres_list = [pfri.app.GetFromStudyCase('ElmRes'),]*len(variables)\n",
    "\n",
    "pfri.export_to_csv(list_of_results_objs=elmres_list, \n",
    "                   elements=elements, \n",
    "                   variables=variables)"
   ]
  },
  {
   "cell_type": "markdown",
   "metadata": {},
   "source": [
    "The formatting of the exported csv file is as follows: the first line (header) specifies the path of the variables (object path + variable name), e.g. \"Network Model\\Network Data\\test_plot_interface\\Grid 1\\WECC WT Control System Type 4A\\REEC_A Electrical Control Model\\s:Iqcmd\" in all columns except for the first one, which is \"Time\". The remaining rows contain the values of the variables.\n",
    "\n",
    "The static method `plot_from_csv` is used to plot from files of this format:"
   ]
  },
  {
   "cell_type": "code",
   "execution_count": 15,
   "metadata": {},
   "outputs": [
    {
     "data": {
      "image/png": "[encoded data removed]",
      "text/plain": [
       "<Figure size 640x480 with 1 Axes>"
      ]
     },
     "metadata": {},
     "output_type": "display_data"
    },
    {
     "ename": "",
     "evalue": "",
     "output_type": "error",
     "traceback": [
      "\u001b[1;31mThe Kernel crashed while executing code in the the current cell or a previous cell. Please review the code in the cell(s) to identify a possible cause of the failure. Click <a href='https://aka.ms/vscodeJupyterKernelCrash'>here</a> for more info. View Jupyter <a href='command:jupyter.viewOutput'>log</a> for further details."
     ]
    }
   ],
   "source": [
    "plot = powfacpy.PFPlotInterface.plot_from_csv(\"results.csv\", r\"Network Model\\Network Data\"\n",
    "    r\"\\test_plot_interface\\Grid 1\\AC Voltage Source\\m:Qsum:bus1\")  \n",
    "plot = powfacpy.PFPlotInterface.plot_from_csv(\"results.csv\", r\"Network Model\\Network Data\"\n",
    "    r\"\\test_plot_interface\\Grid 1\\AC Voltage Source\\m:Psum:bus1\") \n",
    "plot = powfacpy.PFPlotInterface.plot_from_csv(\"results.csv\", r\"Network Model\\Network Data\"\n",
    "    r\"\\test_plot_interface\\Grid 1\\WECC WT Control System Type 4A\\REEC_A Electrical Control Model\\s:Ipcmd\")  "
   ]
  },
  {
   "cell_type": "markdown",
   "metadata": {},
   "source": [
    "*Pyplot* is used by default, but you can specify a different plot interface using the optional argument `plot_interface`."
   ]
  }
 ],
 "metadata": {
  "kernelspec": {
   "display_name": "Python 3.10.6 64-bit",
   "language": "python",
   "name": "python3"
  },
  "language_info": {
   "codemirror_mode": {
    "name": "ipython",
    "version": 3
   },
   "file_extension": ".py",
   "mimetype": "text/x-python",
   "name": "python",
   "nbconvert_exporter": "python",
   "pygments_lexer": "ipython3",
   "version": "3.10.6"
  },
  "orig_nbformat": 4,
  "vscode": {
   "interpreter": {
    "hash": "20b4f2ae9a71ebfc0af8cf0167d05f9c8f5c94fe23811db744e66ae1fdb328c7"
   }
  }
 },
 "nbformat": 4,
 "nbformat_minor": 2
}
