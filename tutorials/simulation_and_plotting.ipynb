{
 "cells": [
  {
   "cell_type": "markdown",
   "metadata": {},
   "source": [
    "The following tutorial introduces dynamic simulations (RMS/EMT), plotting and exporting of results (to csv) using *powfacpy*.\n",
    "\n",
    "Let's again set up *PowerFactory* and create an instance of the class `PFPlotInterface`. This class inherits from `PFBaseInterface` (so those methods are available)."
   ]
  },
  {
   "cell_type": "code",
   "execution_count": 1,
   "metadata": {},
   "outputs": [
    {
     "data": {
      "text/plain": [
       "<powerfactory.DataObject <l1>\\seberlein.IntUser\\powfacpy\\powfacpy_tests.IntPrj\\Study Cases.IntPrjfolder\\test_plot_interface\\Study Case 1.IntCase</l1>>"
      ]
     },
     "execution_count": 1,
     "metadata": {},
     "output_type": "execute_result"
    }
   ],
   "source": [
    "# If you use IPython/Jupyter:\n",
    "import sys\n",
    "sys.path.append(r'C:\\Program Files\\DIgSILENT\\PowerFactory 2023 SP3\\Python\\3.10') # you may use a different directory\n",
    "# Get the PF app\n",
    "import powerfactory\n",
    "app = powerfactory.GetApplication()\n",
    "import powfacpy\n",
    "app.Show()\n",
    "app.ActivateProject(r\"\\seberlein\\powfacpy\\powfacpy_tests\") # You may change the project path.\n",
    "# Make sure the path starts with \"\\\"\n",
    "pfpi = powfacpy.PFPlotInterface(app)\n",
    "pfpi.activate_study_case(r\"Study Cases\\test_plot_interface\\Study Case 1\")"
   ]
  },
  {
   "cell_type": "markdown",
   "metadata": {},
   "source": [
    "In *PowerFactory*, result variables that ought to be monitored (to be later plotted or exported) need to be specified before the simulation. The easiest way to plot results using *powfacpy* is to simply use the method `plot` before the simulation, which automaticallly adds a varibale to the monitored variables and plots it as soon as the simulation is run.\n",
    "\n",
    "First, we set the active plot (starting from a clean graphics board by clearing all plot pages)."
   ]
  },
  {
   "cell_type": "code",
   "execution_count": 2,
   "metadata": {},
   "outputs": [],
   "source": [
    "pfpi.clear_plot_pages() # Start from a clean graphics board\n",
    "pfpi.set_active_plot(\"Plot 1\", \"Plot page 1\")"
   ]
  },
  {
   "attachments": {},
   "cell_type": "markdown",
   "metadata": {},
   "source": [
    "The method `set_active_plot` takes the name of the plot and the name of the page of the plot as input arguments. If the plot (or the page) does not exist, it is created. If there should be several plots on one page, the method is called several times with the same page name but different plot name (e.g. `pfpi.set_active_plot(\"Plot 2\", \"Plot page 1\")`). \n",
    "\n",
    "All plot commmands are applied to the active plot. We can now add curves to the plot."
   ]
  },
  {
   "cell_type": "code",
   "execution_count": 3,
   "metadata": {},
   "outputs": [],
   "source": [
    "# Curve of variable \"s:Iqcmd\"\n",
    "pfpi.plot(r\"Network Model\\Network Data\\test_plot_interface\"\n",
    "    r\"\\Grid 1\\WECC WT Control System Type 4A\\REEC_A Electrical Control Model\", \n",
    "\n",
    "    \"s:Iqcmd\")\n",
    "# Curve of variable \"s:Ipcmd\"\n",
    "# Prepare arguments\n",
    "dsl_controller_obj = pfpi.get_unique_obj(r\"Network Model\\Network Data\"\n",
    "    r\"\\test_plot_interface\\Grid 1\\WECC WT Control System Type 4A\\REEC_A Electrical Control Model\")\n",
    "results_obj = pfpi.get_unique_obj(r\"Study Cases\\test_plot_interface\\Study Case 1\\All calculations\")\n",
    "# Plot with keyword arguments\n",
    "pfpi.plot(dsl_controller_obj,\n",
    "    \"s:Ipcmd\", \n",
    "\n",
    "    linestyle = 3, \n",
    "\n",
    "    linewidth = 200, \n",
    "\n",
    "    color = 5,\n",
    "    label = \"Reactive power setpoint\",\n",
    "    results_obj = results_obj)"
   ]
  },
  {
   "cell_type": "markdown",
   "metadata": {},
   "source": [
    "The method `plot` takes the PF object and its variable as first and second input. Furthermore, keyword arguments can be specified as shown for the second curve. \n",
    "\n",
    "Now we can execute a dynamic simulation using the dynamic simulation interface class."
   ]
  },
  {
   "cell_type": "code",
   "execution_count": 4,
   "metadata": {},
   "outputs": [],
   "source": [
    "pfds = powfacpy.PFDynSimInterface(app)\n",
    "pfds.initialize_sim({\"iopt_sim\":\"rms\"})\n",
    "pfds.run_sim({\"tstop\":0.5})"
   ]
  },
  {
   "cell_type": "markdown",
   "metadata": {},
   "source": [
    "The two methods initialize and run the simulation. Paramters for the ComInc object (initialization) and the ComSim (run simulation) can be specified in a dictionary. If no parameters need to be set, one can also use:"
   ]
  },
  {
   "cell_type": "code",
   "execution_count": 5,
   "metadata": {},
   "outputs": [],
   "source": [
    "pfds.initialize_and_run_sim()"
   ]
  },
  {
   "cell_type": "markdown",
   "metadata": {},
   "source": [
    "In some cases, it might be more convenient to add the result variable first, then simulate and finally specifiy the plot:"
   ]
  },
  {
   "cell_type": "code",
   "execution_count": 6,
   "metadata": {},
   "outputs": [],
   "source": [
    "dsl_controller_obj = pfpi.get_unique_obj(r\"Network Model\\Network Data\"\n",
    "    r\"\\test_plot_interface\\Grid 1\\WECC WT Control System Type 4A\\REEC_A Electrical Control Model\")\n",
    "pfds.add_results_variable(dsl_controller_obj, \"s:Ipcmd\")\n",
    "pfds.initialize_and_run_sim()\n",
    "pfpi.plot(dsl_controller_obj, \"s:Iqcmd\")"
   ]
  },
  {
   "cell_type": "markdown",
   "metadata": {},
   "source": [
    "So the method `add_results_variable` is used to add variables to the monitored vaiables to later export or plot them.\n",
    "\n",
    "Sometimes we have created plots in one study case and want to have those plots also in another study case. This can be achieved by copying the graphics board content (or parts of it) from one study case to another:"
   ]
  },
  {
   "cell_type": "code",
   "execution_count": 7,
   "metadata": {},
   "outputs": [],
   "source": [
    "study_case_1 = pfpi.get_unique_obj(r\"Study Cases\\test_plot_interface\\Study Case 1\")\n",
    "study_case_2 = pfpi.get_unique_obj(r\"Study Cases\\test_plot_interface\\Study Case 2\")\n",
    "pfpi.copy_graphics_board_content(study_case_1, study_case_2, \"*.GrpPage\")"
   ]
  },
  {
   "cell_type": "markdown",
   "metadata": {},
   "source": [
    "This copies all plot pages (class GrpPage) of Study Case 1 to Study Case 2. The target study case argument can also be a list of cases. Or we can use the method `copy_graphics_board_content_to_all_study_cases` to target all study cases or all cases in a certain folder.\n",
    "\n",
    "To use simulation results outside PowerFactory we can eport them to csv format:"
   ]
  },
  {
   "cell_type": "code",
   "execution_count": 8,
   "metadata": {},
   "outputs": [],
   "source": [
    "pfds.export_to_csv()"
   ]
  },
  {
   "cell_type": "markdown",
   "metadata": {},
   "source": [
    "This exports the result object of the active study case to the directory from where the script is run. You can also specifiy a directory, a file name (default is \"results\") or a results object (ElmRes) from where the data is exported. \n",
    "\n",
    "The formatting of the exported csv file looks like this: the first line specifies the path of the variable (object path + variable name), e.g. \"Network Model\\Network Data\\test_plot_interface\\Grid 1\\WECC WT Control System Type 4A\\REEC_A Electrical Control Model\\s:Iqcmd\" in all columns except for the first one, which is \"Time\". The remaining rows contain the values of the variables.\n",
    "\n",
    "The static method `plot_from_csv` is used to plot from files of this format:"
   ]
  },
  {
   "cell_type": "code",
   "execution_count": 9,
   "metadata": {},
   "outputs": [
    {
     "data": {
      "image/png": "[encoded data removed]",
      "text/plain": [
       "<Figure size 640x480 with 1 Axes>"
      ]
     },
     "metadata": {},
     "output_type": "display_data"
    }
   ],
   "source": [
    "plot = powfacpy.PFPlotInterface.plot_from_csv(\"results.csv\", r\"Network Model\\Network Data\"\n",
    "    r\"\\test_plot_interface\\Grid 1\\WECC WT Control System Type 4A\\REEC_A Electrical Control Model\\s:Iqcmd\")  "
   ]
  },
  {
   "cell_type": "markdown",
   "metadata": {},
   "source": [
    "*Pyplot* is used by default, but you can specify a different plot interface using the optional argument `plot_interface`."
   ]
  }
 ],
 "metadata": {
  "kernelspec": {
   "display_name": "Python 3.10.6 64-bit",
   "language": "python",
   "name": "python3"
  },
  "language_info": {
   "codemirror_mode": {
    "name": "ipython",
    "version": 3
   },
   "file_extension": ".py",
   "mimetype": "text/x-python",
   "name": "python",
   "nbconvert_exporter": "python",
   "pygments_lexer": "ipython3",
   "version": "3.10.6"
  },
  "orig_nbformat": 4,
  "vscode": {
   "interpreter": {
    "hash": "20b4f2ae9a71ebfc0af8cf0167d05f9c8f5c94fe23811db744e66ae1fdb328c7"
   }
  }
 },
 "nbformat": 4,
 "nbformat_minor": 2
}
