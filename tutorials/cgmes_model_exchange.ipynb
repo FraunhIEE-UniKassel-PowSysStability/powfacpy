{
 "cells": [
  {
   "cell_type": "markdown",
   "metadata": {},
   "source": [
    "---\n",
    "title: 'CGMES handling with model exchange interface '\n",
    "toc: true\n",
    "number-sections: true\n",
    "mainfont: Arial\n",
    "format:\n",
    "  html: default\n",
    "jupyter: python3\n",
    "---"
   ]
  },
  {
   "cell_type": "code",
   "execution_count": null,
   "metadata": {},
   "outputs": [],
   "source": [
    "#| echo: false\n",
    "#| output: false\n",
    "%load_ext autoreload\n",
    "%autoreload 2\n",
    "import sys\n",
    "\n",
    "sys.path.append(r\"..\\..\\src\")\n",
    "from powfacpy.applications.model_exchange import CGMES\n",
    "from powfacpy.applications.study_cases import StudyCases"
   ]
  },
  {
   "attachments": {},
   "cell_type": "markdown",
   "metadata": {},
   "source": [
    "**The tutorials have been moved to the [website](https://fraunhiee-unikassel-powsysstability.github.io/powfacpy/docs/tutorials/overview.html). The version here is no longer maintained.**\n",
    "\n",
    "# About CGMES \n",
    "\n",
    "CGMES stands for *Common Grid Model Exchange Standard*. It is a standard developed to facilitate the exchange of grid models and data among different stakeholders in the power system industry, such as utilities, system operators, and software vendors.\n",
    "\n",
    "CGMES is structured using several profiles, each contained in a separate file. An exemplary seleciton of profiles is given in @tbl-cgmesProfiles.\n",
    "\n",
    "| Abbreviation | Description                                                                                    |\n",
    "| ------------ | ---------------------------------------------------------------------------------------------- |\n",
    "| SSH          | Steady State Hypothesis (steady state Load Flow Data with changeable parameters)               |\n",
    "| EQ           | Equipment Model                                                                                |\n",
    "| TP           | Topology profile: contains all topology objects, i.e. how equipment is electrically connected. |\n",
    "| SV           | State Variables                                                                                |\n",
    "| DL           | Diagram Layout                                                                                 |\n",
    "\n",
    ": Subselection of CGMES profiles {#tbl-cgmesProfiles}\n",
    "\n",
    "For more information on CGMES, visit the following links: \n",
    "[Video](https://www.youtube.com/watch?v=4OfoYUBAv1c), [ENTSO-E website](https://www.entsoe.eu/data/cim/cim-for-grid-models-exchange/), and [Document](https://eepublicdownloads.entsoe.eu/clean-documents/CIM_documents/Grid_Model_CIM/140528_ENTSOE_CGMES_v2.4.14.pdf).\n",
    "\n",
    "# Model exchange interface\n",
    "\n",
    "The model exchange application of powfacpy contains functionalities to import and export CGMES data, as well as to update an existing CGMES grid with new data, for example from an SSH file.\n",
    "\n",
    "This tutorials demonstrates how to \n",
    "\n",
    "- Import CGMES\n",
    "- Export CGMES\n",
    "- Update CGMES using SSH and DL\n",
    "\n",
    "First, activate the PowerFactory project as outlined in the *getting started* tutorial."
   ]
  },
  {
   "cell_type": "code",
   "execution_count": null,
   "metadata": {},
   "outputs": [],
   "source": [
    "# If you use IPython/Jupyter:\n",
    "import sys\n",
    "\n",
    "sys.path.append(\n",
    "    r\"C:\\Program Files\\DIgSILENT\\PowerFactory 2024 SP4\\Python\\3.10\"\n",
    ")  # you may use a different directory\n",
    "\n",
    "# Get the PF app\n",
    "import powerfactory\n",
    "import powfacpy\n",
    "\n",
    "app = powerfactory.GetApplication()\n",
    "app.ActivateProject(\n",
    "    r\"powfacpy\\powfacpy_tests_copy_where_tests_run\"\n",
    ")  # You may change the project path.\n",
    "\n",
    "app.Show()"
   ]
  },
  {
   "cell_type": "markdown",
   "metadata": {},
   "source": [
    "Get powfacpy objects"
   ]
  },
  {
   "cell_type": "code",
   "execution_count": null,
   "metadata": {},
   "outputs": [],
   "source": [
    "pfcgmes = CGMES(app)\n",
    "pfp = pfcgmes.act_prj"
   ]
  },
  {
   "cell_type": "markdown",
   "metadata": {},
   "source": [
    "Activate study case"
   ]
  },
  {
   "cell_type": "code",
   "execution_count": null,
   "metadata": {},
   "outputs": [],
   "source": [
    "study_case = pfp.get_unique_obj(r'Study Cases\\test_model_exchange_interfaces\\Study Case')\n",
    "study_case.Activate()"
   ]
  },
  {
   "cell_type": "markdown",
   "metadata": {},
   "source": [
    "The following grid exists in that project. \n",
    "\n",
    "![Grid for export](figures/cgmes_grid.png){#fig-cgmesgrid}"
   ]
  },
  {
   "attachments": {},
   "cell_type": "markdown",
   "metadata": {},
   "source": [
    "# Export to CGMES\n",
    "\n",
    "First, let's export this grid to CGMES. The function `cgmes_export()` exports the active grid to `OUTPUT_PATH`."
   ]
  },
  {
   "cell_type": "code",
   "execution_count": null,
   "metadata": {},
   "outputs": [],
   "source": [
    "OUTPUT_PATH = r'..\\tests\\tests_output\\cgmes_export'\n",
    "\n",
    "pfcgmes.cgmes_export(OUTPUT_PATH, selected_profiles=\"all\", as_zip=True)"
   ]
  },
  {
   "cell_type": "markdown",
   "metadata": {},
   "source": [
    "Here we can see the exported file.\n",
    "\n",
    "![Exported ZIP file with all CGMES profiles](figures/cgmes_zip_all_exported.png){#fig-cgmesZipAll}"
   ]
  },
  {
   "cell_type": "markdown",
   "metadata": {},
   "source": [
    "It is a .zip file, because we configured `as_zip=True`.\n",
    "\n",
    "We can also get the separate files directly into the folder by setting `as_zip=False`.\n",
    "Additionally **we can choose which profiles to export**:"
   ]
  },
  {
   "cell_type": "code",
   "execution_count": null,
   "metadata": {},
   "outputs": [],
   "source": [
    "pfcgmes.cgmes_export(OUTPUT_PATH, selected_profiles=\"ssh dl sv\", as_zip=False)"
   ]
  },
  {
   "cell_type": "markdown",
   "metadata": {},
   "source": [
    "Now we exported the .xml files (not zipped) and only got SSH, DL and SV:\n",
    "\n",
    "![Selected profiles, unzipped](figures/cgmes_nozip.png){#fig-cgmesNoZip}"
   ]
  },
  {
   "cell_type": "markdown",
   "metadata": {},
   "source": [
    "# Import from CGMES\n",
    "\n",
    "Now we could import our grid into another simulation software. \n",
    "\n",
    "Here, we'll demonstrate this by switching to a different study case and importing the grid again."
   ]
  },
  {
   "cell_type": "code",
   "execution_count": null,
   "metadata": {},
   "outputs": [],
   "source": [
    "study_case.Deactivate()\n",
    "\n",
    "new_study_case = pfp.create_in_folder(\n",
    "    \"New Study Case.IntCase\",\n",
    "    study_case.GetParent(),\n",
    "    overwrite=True,\n",
    ")\n",
    "new_study_case.Activate()"
   ]
  },
  {
   "cell_type": "markdown",
   "metadata": {},
   "source": [
    "Then import the previously exported CGMES files using `cgmes_import()` "
   ]
  },
  {
   "cell_type": "code",
   "execution_count": null,
   "metadata": {},
   "outputs": [],
   "source": [
    "new_grid = pfcgmes.cgmes_import(\n",
    "    OUTPUT_PATH + \"\\\\\" \n",
    "    + pfcgmes.exported_zip_name # default name that pfcgmes uses for exported zip file\n",
    "    + \".zip\"\n",
    ")"
   ]
  },
  {
   "cell_type": "code",
   "execution_count": null,
   "metadata": {},
   "outputs": [],
   "source": [
    "new_grid.Activate()"
   ]
  },
  {
   "cell_type": "markdown",
   "metadata": {},
   "source": [
    "The imorted grid will have the same name as the original.\n",
    "\n",
    "Import location is the root of the network data folder.\n",
    "It has a different folder structure than the original and a library folder with model types is imported with the grid.\n",
    "\n",
    "![Structure of imported grid](figures/cgmes_structure_after_import.png){#fig-structureAfterImport}\n",
    "\n",
    "But the resulting grid model still looks the same as the original:\n",
    "\n",
    "![Imported grid](figures/cgmes_reimported.png){#fig-cgmesReimportedGrid}"
   ]
  },
  {
   "cell_type": "markdown",
   "metadata": {},
   "source": [
    "# Update model with external data\n",
    "\n",
    "Using CGMES, we can update a model using external data (e.g. SSH and DL). \n",
    "\n",
    "In this case, we will think of `study_case` as some external reference model. We will change its data and update `new_study_case` using CGMES."
   ]
  },
  {
   "cell_type": "code",
   "execution_count": null,
   "metadata": {},
   "outputs": [],
   "source": [
    "study_case.Activate()"
   ]
  },
  {
   "cell_type": "markdown",
   "metadata": {},
   "source": [
    "All our loads have reactive power setpoints. \n",
    "\n",
    "![Original reactive power setpoints of loads](figures_cgmes_qset.png){#fig-qSetOrig}\n",
    "\n",
    "Let's change them in the reference model. We will set them to 0, just as an example."
   ]
  },
  {
   "cell_type": "code",
   "execution_count": null,
   "metadata": {},
   "outputs": [],
   "source": [
    "pfp.app.Hide()\n",
    "\n",
    "reference_grid = pfp.get_unique_obj(r'Network Model\\Network Data\\test_model_exchange_interfaces\\Grid')\n",
    "for load in pfcgmes.act_prj.get_obj(\"*.ElmLod\", include_subfolders=True, parent_folder=reference_grid):\n",
    "    load.qlini = 0\n",
    "\n",
    "pfp.app.Show()"
   ]
  },
  {
   "cell_type": "markdown",
   "metadata": {},
   "source": [
    "Now the reactive power of all loads in the reference model are 0:\n",
    "\n",
    "![new reactive power in reference model](figures/cgmes_new_q.png){#fig-cgmesNewQ}\n",
    "\n",
    "While in the new model it is still like it was before:\n",
    "\n",
    "![Reactive power in imported model](figures/cgmes_original_q.png){#fig-cgmesOriginalQ}"
   ]
  },
  {
   "cell_type": "markdown",
   "metadata": {},
   "source": [
    "To update our new model with the change in reference model, we first export the reference model's changes to CGMES using the SSH and DL profiles."
   ]
  },
  {
   "cell_type": "code",
   "execution_count": null,
   "metadata": {},
   "outputs": [],
   "source": [
    "pfcgmes.cgmes_export(OUTPUT_PATH, selected_profiles=\"ssh dl\", as_zip=True)"
   ]
  },
  {
   "cell_type": "markdown",
   "metadata": {},
   "source": [
    "Then we take this to our new model.\n"
   ]
  },
  {
   "cell_type": "code",
   "execution_count": null,
   "metadata": {},
   "outputs": [],
   "source": [
    "new_study_case.Activate()"
   ]
  },
  {
   "cell_type": "markdown",
   "metadata": {},
   "source": [
    "We need to supply the CIM archive that we used to import the new model. It is used as a base archive and needed for the update."
   ]
  },
  {
   "cell_type": "code",
   "execution_count": null,
   "metadata": {},
   "outputs": [],
   "source": [
    "base_archive = pfcgmes.act_prj.get_unique_obj(\n",
    "    pfcgmes.import_archive_name, parent_folder=pfcgmes.archive_folder\n",
    ")"
   ]
  },
  {
   "cell_type": "markdown",
   "metadata": {},
   "source": [
    "And by running `update_profiles()` we can update our new model."
   ]
  },
  {
   "cell_type": "code",
   "execution_count": null,
   "metadata": {},
   "outputs": [],
   "source": [
    "pfcgmes.update_profiles(\n",
    "    update_file_path=OUTPUT_PATH + \"\\\\\" + pfcgmes.exported_zip_name + \".zip\", \n",
    "     base_archive=base_archive\n",
    ")"
   ]
  },
  {
   "cell_type": "markdown",
   "metadata": {},
   "source": [
    "Now, the changes made in the reference model are also present in our new model.\n",
    "\n",
    "![Changes to reference model were transferred to new model](figures/cgmes_new_q.png){#fig-cgmesNewQ2}"
   ]
  }
 ],
 "metadata": {
  "kernelspec": {
   "display_name": ".venv",
   "language": "python",
   "name": "python3"
  },
  "language_info": {
   "codemirror_mode": {
    "name": "ipython",
    "version": 3
   },
   "file_extension": ".py",
   "mimetype": "text/x-python",
   "name": "python",
   "nbconvert_exporter": "python",
   "pygments_lexer": "ipython3"
  }
 },
 "nbformat": 4,
 "nbformat_minor": 2
}
