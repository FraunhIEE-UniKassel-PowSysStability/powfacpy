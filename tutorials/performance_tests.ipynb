{
 "cells": [
  {
   "cell_type": "code",
   "execution_count": 1,
   "metadata": {},
   "outputs": [],
   "source": [
    "import numpy as np, pandas as pd, os, sys\n",
    "sys.path.append(r'D:\\Tools\\DIgSILENT\\PowerFactory 2023 SP5\\Python\\3.7')\n",
    "import powerfactory as pf\n",
    "import powfacpy as pfp\n",
    "import platform"
   ]
  },
  {
   "cell_type": "markdown",
   "metadata": {},
   "source": [
    "## Get_obj in large grids\n",
    "according to issues #38 [get_obj() on very large grids](https://github.com/FraunhIEE-UniKassel-PowSysStability/powfacpy/issues/38) and #49 [Performance on scripts](https://github.com/FraunhIEE-UniKassel-PowSysStability/powfacpy/issues/49), there are performance differences between multiple object retrieval functionalities when operating on grids with a large node number.\n",
    "The runtime of the following functions are listed in increasing order; according to the issues.\n",
    "| Functionality                  | Description            |\n",
    "| :------------------------------| ---------------------- |\n",
    "| _Network Manager_              | Integrated into PF GUI |\n",
    "| `app.GetCalcRelevantObjects()` | Only retrieves objects that are relevent for calculations (in active study cases, grids and variations)                       |\n",
    "| PowFacPy's `get_obj()`         | Gets objects based on paths, wildcards and conditions.                       |\n",
    "\n",
    "This notebook contains an investigation of the matter. As the large test grid, the same model is used as was in the issues."
   ]
  },
  {
   "cell_type": "code",
   "execution_count": 2,
   "metadata": {},
   "outputs": [
    {
     "name": "stdout",
     "output_type": "stream",
     "text": [
      "========== System Information ==========\n",
      "System: Windows\n",
      "Release: 10\n",
      "Version: 10.0.19041\n",
      "Machine: AMD64\n",
      "Processor: AMD64 Family 25 Model 68 Stepping 1, AuthenticAMD\n"
     ]
    }
   ],
   "source": [
    "# Options and parameters\n",
    "proj_name = \"20231114_0822_BtB_QStep\"\n",
    "\n",
    "# System parameters\n",
    "print(\"=\"*10, \"System Information\", \"=\"*10)\n",
    "uname = platform.uname()\n",
    "print(f\"System: {uname.system}\")\n",
    "print(f\"Release: {uname.release}\")\n",
    "print(f\"Version: {uname.version}\")\n",
    "print(f\"Machine: {uname.machine}\")\n",
    "print(f\"Processor: {uname.processor}\")"
   ]
  },
  {
   "cell_type": "code",
   "execution_count": 3,
   "metadata": {},
   "outputs": [],
   "source": [
    "app = pf.GetApplication()\n",
    "pfbi = pfp.PFBaseInterface(app)\n",
    "pfbi.app.ActivateProject(proj_name)\n",
    "app.Show()"
   ]
  },
  {
   "cell_type": "code",
   "execution_count": 4,
   "metadata": {},
   "outputs": [
    {
     "name": "stdout",
     "output_type": "stream",
     "text": [
      "Amount of Nodes/Terminals when using GetCalcRelevantObjects: 12157\n",
      "Amount of Nodes/Terminals when using get_ojb: 12157\n"
     ]
    }
   ],
   "source": [
    "terminals_calcrelevant = pfbi.app.GetCalcRelevantObjects('*.ElmTerm')\n",
    "print(f\"Amount of Nodes/Terminals when using GetCalcRelevantObjects: {len(terminals_calcrelevant)}\")\n",
    "terminals_pfp = pfbi.get_obj(\"*.ElmTerm\")\n",
    "print(f\"Amount of Nodes/Terminals when using get_ojb: {len(terminals_pfp)}\")"
   ]
  },
  {
   "cell_type": "code",
   "execution_count": 6,
   "metadata": {},
   "outputs": [
    {
     "name": "stdout",
     "output_type": "stream",
     "text": [
      "Amount of objects when using GetCalcRelevantObjects: 128858\n",
      "Amount of objects when using get_obj: 484515\n"
     ]
    }
   ],
   "source": [
    "all_objs_calcrelevant = pfbi.app.GetCalcRelevantObjects()\n",
    "print(f\"Amount of objects when using GetCalcRelevantObjects: {len(all_objs_calcrelevant)}\")\n",
    "all_objs_pfp = pfbi.get_obj(\"*\")\n",
    "print(f\"Amount of objects when using get_obj: {len(all_objs_pfp)}\")"
   ]
  },
  {
   "cell_type": "markdown",
   "metadata": {},
   "source": [
    "#### Without App shown"
   ]
  },
  {
   "cell_type": "code",
   "execution_count": 7,
   "metadata": {},
   "outputs": [
    {
     "name": "stdout",
     "output_type": "stream",
     "text": [
      "========== Terminals ==========\n",
      "get_obj:  287 ms ± 7.53 ms per loop (mean ± std. dev. of 7 runs, 1 loop each)\n",
      "calc_rel: 186 ms ± 4.49 ms per loop (mean ± std. dev. of 7 runs, 10 loops each)\n",
      "========= All Objects =========\n",
      "get_obj:  387 ms ± 8.33 ms per loop (mean ± std. dev. of 7 runs, 1 loop each)\n",
      "calc_rel: 191 ms ± 3.63 ms per loop (mean ± std. dev. of 7 runs, 10 loops each)\n"
     ]
    }
   ],
   "source": [
    "print(\"=\"*10 + \" Terminals \" + \"=\"*10)\n",
    "print(\"get_obj:  \", end = \"\")\n",
    "%timeit pfbi.get_obj(\"*.ElmTerm\")\n",
    "print(\"calc_rel: \", end=\"\")\n",
    "%timeit pfbi.app.GetCalcRelevantObjects('*.ElmTerm')\n",
    "\n",
    "print(\"=\"*9 + \" All Objects \" + \"=\"*9)\n",
    "print(\"get_obj:  \", end = \"\")\n",
    "%timeit pfbi.get_obj(\"*\")\n",
    "print(\"calc_rel: \", end=\"\")\n",
    "%timeit pfbi.app.GetCalcRelevantObjects()"
   ]
  },
  {
   "cell_type": "code",
   "execution_count": 8,
   "metadata": {},
   "outputs": [
    {
     "name": "stdout",
     "output_type": "stream",
     "text": [
      "603 ms ± 29.5 ms per loop (mean ± std. dev. of 7 runs, 1 loop each)\n"
     ]
    }
   ],
   "source": [
    "def count_subnets():\n",
    "   terminals = app.GetCalcRelevantObjects('*.ElmTerm')\n",
    "   counter = 0\n",
    "   for terminal in terminals:\n",
    "      if not terminal.HasAttribute('b:ipat'):\n",
    "         counter += 1\n",
    "%timeit count_subnets()"
   ]
  },
  {
   "cell_type": "code",
   "execution_count": 10,
   "metadata": {},
   "outputs": [
    {
     "name": "stdout",
     "output_type": "stream",
     "text": [
      "4.8 s ± 131 ms per loop (mean ± std. dev. of 7 runs, 1 loop each)\n",
      "1min 3s ± 1.74 s per loop (mean ± std. dev. of 7 runs, 1 loop each)\n"
     ]
    }
   ],
   "source": [
    "def get_obj_composition_1(exclude_all=False):\n",
    "    all_objs_cls = [i.GetClassName() for i in pfbi.get_obj('*')]\n",
    "\n",
    "    composition = {}\n",
    "    for unique_cls in np.unique(all_objs_cls):\n",
    "        composition[unique_cls[:3]] = len(pfbi.get_obj(f\"*.{unique_cls}*\"))\n",
    "\n",
    "    return composition\n",
    "\n",
    "def get_obj_composition_2(exclude_all=False):\n",
    "    composition = {\n",
    "        'int': len(pfbi.get_obj('*.Int*', error_if_non_existent=False)),\n",
    "        'elm': len(pfbi.get_obj('*.Elm*', error_if_non_existent=False)),\n",
    "        'typ': len(pfbi.get_obj('*.Typ*', error_if_non_existent=False)),\n",
    "        'sta': len(pfbi.get_obj('*.Sta*', error_if_non_existent=False)),\n",
    "        'set': len(pfbi.get_obj('*.Set*', error_if_non_existent=False)),\n",
    "        'com': len(pfbi.get_obj('*.Com*', error_if_non_existent=False)),\n",
    "        'cha': len(pfbi.get_obj('*.Cha*', error_if_non_existent=False)),\n",
    "        'blk': len(pfbi.get_obj('*.Blk*', error_if_non_existent=False)),\n",
    "        'cim': len(pfbi.get_obj('*.Cim*', error_if_non_existent=False)),\n",
    "        'evt': len(pfbi.get_obj('*.Evt*', error_if_non_existent=False)),\n",
    "        'opt': len(pfbi.get_obj('*.Opt*', error_if_non_existent=False)),\n",
    "        'plt': len(pfbi.get_obj('*.Plt*', error_if_non_existent=False)),\n",
    "        'grp': len(pfbi.get_obj('*.Grp*', error_if_non_existent=False)),\n",
    "        'scn': len(pfbi.get_obj('*.Scn*', error_if_non_existent=False)),\n",
    "        'vis': len(pfbi.get_obj('*.Vis*', error_if_non_existent=False)),\n",
    "    }\n",
    "\n",
    "    if not exclude_all:\n",
    "        composition['all'] = len(pfbi.get_obj('*'))\n",
    "\n",
    "    return composition\n",
    "\n",
    "%timeit get_obj_composition_2()\n",
    "%timeit get_obj_composition_1()"
   ]
  },
  {
   "cell_type": "code",
   "execution_count": 11,
   "metadata": {},
   "outputs": [
    {
     "name": "stdout",
     "output_type": "stream",
     "text": [
      "========= All Objects =========\n",
      "get_obj:                366 ms ± 9.5 ms per loop (mean ± std. dev. of 7 runs, 1 loop each)\n",
      "getclassname list comp: 19.7 s ± 135 ms per loop (mean ± std. dev. of 7 runs, 1 loop each)\n",
      "numpy unique:           117 ms ± 1.47 ms per loop (mean ± std. dev. of 7 runs, 10 loops each)\n"
     ]
    }
   ],
   "source": [
    "all_objs = pfbi.get_obj('*')\n",
    "all_cls = [i.GetClassName() for i in all_objs]\n",
    "print(\"=\"*9 + \" All Objects \" + \"=\"*9)\n",
    "print(\"get_obj:                \", end = \"\")\n",
    "%timeit pfbi.get_obj(\"*\")\n",
    "print(\"getclassname list comp: \", end=\"\")\n",
    "%timeit [i.GetClassName() for i in all_objs]\n",
    "print(\"numpy unique:           \", end=\"\")\n",
    "%timeit np.unique(all_cls)"
   ]
  },
  {
   "cell_type": "markdown",
   "metadata": {},
   "source": [
    "#### With App shown"
   ]
  },
  {
   "cell_type": "code",
   "execution_count": 4,
   "metadata": {},
   "outputs": [
    {
     "name": "stdout",
     "output_type": "stream",
     "text": [
      "========== Terminals ==========\n",
      "get_obj:  303 ms ± 5.96 ms per loop (mean ± std. dev. of 7 runs, 1 loop each)\n",
      "calc_rel: 198 ms ± 6.65 ms per loop (mean ± std. dev. of 7 runs, 1 loop each)\n",
      "========= All Objects =========\n",
      "get_obj:  376 ms ± 2.21 ms per loop (mean ± std. dev. of 7 runs, 1 loop each)\n",
      "calc_rel: 186 ms ± 2.45 ms per loop (mean ± std. dev. of 7 runs, 10 loops each)\n"
     ]
    }
   ],
   "source": [
    "print(\"=\"*10 + \" Terminals \" + \"=\"*10)\n",
    "print(\"get_obj:  \", end = \"\")\n",
    "%timeit pfbi.get_obj(\"*.ElmTerm\")\n",
    "print(\"calc_rel: \", end=\"\")\n",
    "%timeit pfbi.app.GetCalcRelevantObjects('*.ElmTerm')\n",
    "\n",
    "print(\"=\"*9 + \" All Objects \" + \"=\"*9)\n",
    "print(\"get_obj:  \", end = \"\")\n",
    "%timeit pfbi.get_obj(\"*\")\n",
    "print(\"calc_rel: \", end=\"\")\n",
    "%timeit pfbi.app.GetCalcRelevantObjects()"
   ]
  },
  {
   "cell_type": "markdown",
   "metadata": {},
   "source": [
    "### Conclusion\n",
    "The difference between `GetCalcRelevantObjects` and `get_obj()` seems to be insignificant. Receiving elements with each method in a PowerFactory project with around $500.000$ objects takes only several milliseconds. Showing or hiding the PF GUI had no influence. The notebook is not able to reproduce the time difference described in the github issues.\n",
    "\n",
    "The notebook observes a more significant time difference when using methods of PowerFactory's `DataObject` class. The function `get_obj_composition_1` sorts all objects based on their top-level type, using the `GetClassName` method. Function `get_obj_composition_2` implements the same functionality, however it only uses the `get_obj` function. On average, `get_obj_composition_1` is one minute slower than its counterpart. A major reason for this slow-down is the `GetClassName` method, which takes around 20 seconds.\n",
    "\n",
    "In conclusion, reasons for the time difference in both `get_obj` and `GetCalcRelevantObjects` could be:\n",
    "* Inherent search filter for `GetCalcRelevantObjects`.\n",
    "* Performance differences in executing machine and network speed (the original problems occured on a VM).\n",
    "* Implementation of the PowerFactory Python Interface, specifically for the `DataObject` class (Receiving objects seems to be implemented well).\n",
    "* Speed of list comprehensions or for-loops."
   ]
  }
 ],
 "metadata": {
  "kernelspec": {
   "display_name": "PowFacPy",
   "language": "python",
   "name": "python3"
  },
  "language_info": {
   "codemirror_mode": {
    "name": "ipython",
    "version": 3
   },
   "file_extension": ".py",
   "mimetype": "text/x-python",
   "name": "python",
   "nbconvert_exporter": "python",
   "pygments_lexer": "ipython3",
   "version": "3.7.16"
  }
 },
 "nbformat": 4,
 "nbformat_minor": 2
}
